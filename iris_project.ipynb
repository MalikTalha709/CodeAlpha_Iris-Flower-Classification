{
 "cells": [
  {
   "cell_type": "markdown",
   "id": "da000bc7",
   "metadata": {},
   "source": [
    "# Project: Iris Flower Classification"
   ]
  },
  {
   "cell_type": "markdown",
   "id": "884201af",
   "metadata": {},
   "source": [
    "#                                                    `About Author`\n",
    "\n",
    "## Hi Everyone! Welcome to my notebook. I am Malik Talha, and I am a student of the Data Science and doing my internship at CodeAlpha. In this notebook, I will be using the Iris dataset to build a model that can predict the species of an Iris flower.\n",
    "\n",
    "### GitHub Link: https://github.com/MalikTalha709\n",
    "\n",
    "### LinkedIn Link: https://www.linkedin.com/in/malik-talha-0b6a58304/\n",
    "\n",
    "### Gmail: maliktalha1515@gmail.com"
   ]
  },
  {
   "cell_type": "markdown",
   "id": "1d9742d6",
   "metadata": {},
   "source": [
    "# Overview:\n",
    "\n",
    "This dataset contains information about flowers with the following attributes:\n",
    "\n",
    "* Id: Unique identifier for each entry.\n",
    "* Sepal Length (cm): Length of the sepal in centimeters.\n",
    "* Sepal Width (cm): Width of the sepal in centimeters.\n",
    "* Petal Length (cm): Length of the petal in centimeters.\n",
    "* Petal Width (cm): Width of the petal in centimeters.\n",
    "* Species: The species of the flower."
   ]
  },
  {
   "cell_type": "markdown",
   "id": "c95db59b",
   "metadata": {},
   "source": [
    "# Importing the required libraries"
   ]
  },
  {
   "cell_type": "code",
   "execution_count": null,
   "id": "d0972ba6",
   "metadata": {},
   "outputs": [],
   "source": [
    "print(\"✅ Kernel responding\")\n"
   ]
  },
  {
   "cell_type": "code",
   "execution_count": null,
   "id": "9ce3afd0",
   "metadata": {},
   "outputs": [],
   "source": [
    "import sys\n",
    "print(sys.executable)\n"
   ]
  },
  {
   "cell_type": "code",
   "execution_count": null,
   "id": "7bd265cb",
   "metadata": {},
   "outputs": [],
   "source": [
    "# import libraries\n",
    "\n",
    "import pandas as pd\n",
    "# import numpy as np\n",
    "# import matplotlib.pyplot as plt\n",
    "# import seaborn as sns\n",
    "\n",
    "\n",
    "# # remove warnings\n",
    "# import warnings\n",
    "# warnings.filterwarnings('ignore')"
   ]
  }
 ],
 "metadata": {
  "kernelspec": {
   "display_name": "ds_env",
   "language": "python",
   "name": "python3"
  },
  "language_info": {
   "name": "python",
   "version": "3.10.18"
  }
 },
 "nbformat": 4,
 "nbformat_minor": 5
}
